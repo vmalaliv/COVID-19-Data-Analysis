{
 "cells": [
  {
   "cell_type": "code",
   "execution_count": 1,
   "id": "5086c96a",
   "metadata": {},
   "outputs": [],
   "source": [
    "import subprocess\n",
    "import os\n",
    "\n",
    "import pandas as pd\n",
    "\n",
    "import requests\n",
    "from bs4 import BeautifulSoup\n",
    "\n",
    "import json\n",
    "\n",
    "pd.set_option('display.max_rows', 500)"
   ]
  },
  {
   "cell_type": "markdown",
   "id": "99026f59",
   "metadata": {},
   "source": [
    "![CRISP_DM](../reports/figures/CRISP_DM.png)"
   ]
  },
  {
   "cell_type": "markdown",
   "id": "c7773fec",
   "metadata": {},
   "source": [
    "# Data Understanding"
   ]
  },
  {
   "cell_type": "markdown",
   "id": "2ff22a36",
   "metadata": {},
   "source": [
    "* Robert Koch Institute, webscrape (webscraping) https://www.rki.de/DE/Content/InfAZ/N/Neuartiges_Coronavirus/Fallzahlen.html\n",
    "* John Hopkins (GITHUB) https://github.com/CSSEGISandData/COVID-19.git\n",
    "* REST API services to retreive data https://npgeo-corona-npgeo-de.hub.arcgis.com/"
   ]
  },
  {
   "cell_type": "markdown",
   "id": "531bef60",
   "metadata": {},
   "source": [
    "# GITHUB csv data"
   ]
  },
  {
   "cell_type": "markdown",
   "id": "a26fcfe1",
   "metadata": {},
   "source": [
    "git clone/pull https://github.com/CSSEGISandData/COVID-19.git"
   ]
  },
  {
   "cell_type": "code",
   "execution_count": 2,
   "id": "9effa64f",
   "metadata": {},
   "outputs": [],
   "source": [
    "data_path='../data/raw/COVID-19-master/csse_covid_19_data/csse_covid_19_time_series/time_series_covid19_confirmed_global.csv'\n",
    "pd_raw=pd.read_csv(data_path)"
   ]
  },
  {
   "cell_type": "code",
   "execution_count": 3,
   "id": "0ce7c2ed",
   "metadata": {},
   "outputs": [
    {
     "data": {
      "text/html": [
       "<div>\n",
       "<style scoped>\n",
       "    .dataframe tbody tr th:only-of-type {\n",
       "        vertical-align: middle;\n",
       "    }\n",
       "\n",
       "    .dataframe tbody tr th {\n",
       "        vertical-align: top;\n",
       "    }\n",
       "\n",
       "    .dataframe thead th {\n",
       "        text-align: right;\n",
       "    }\n",
       "</style>\n",
       "<table border=\"1\" class=\"dataframe\">\n",
       "  <thead>\n",
       "    <tr style=\"text-align: right;\">\n",
       "      <th></th>\n",
       "      <th>Province/State</th>\n",
       "      <th>Country/Region</th>\n",
       "      <th>Lat</th>\n",
       "      <th>Long</th>\n",
       "      <th>1/22/20</th>\n",
       "      <th>1/23/20</th>\n",
       "      <th>1/24/20</th>\n",
       "      <th>1/25/20</th>\n",
       "      <th>1/26/20</th>\n",
       "      <th>1/27/20</th>\n",
       "      <th>...</th>\n",
       "      <th>6/11/22</th>\n",
       "      <th>6/12/22</th>\n",
       "      <th>6/13/22</th>\n",
       "      <th>6/14/22</th>\n",
       "      <th>6/15/22</th>\n",
       "      <th>6/16/22</th>\n",
       "      <th>6/17/22</th>\n",
       "      <th>6/18/22</th>\n",
       "      <th>6/19/22</th>\n",
       "      <th>6/20/22</th>\n",
       "    </tr>\n",
       "  </thead>\n",
       "  <tbody>\n",
       "    <tr>\n",
       "      <th>0</th>\n",
       "      <td>NaN</td>\n",
       "      <td>Afghanistan</td>\n",
       "      <td>33.93911</td>\n",
       "      <td>67.709953</td>\n",
       "      <td>0</td>\n",
       "      <td>0</td>\n",
       "      <td>0</td>\n",
       "      <td>0</td>\n",
       "      <td>0</td>\n",
       "      <td>0</td>\n",
       "      <td>...</td>\n",
       "      <td>180864</td>\n",
       "      <td>180864</td>\n",
       "      <td>181120</td>\n",
       "      <td>181178</td>\n",
       "      <td>181236</td>\n",
       "      <td>181465</td>\n",
       "      <td>181534</td>\n",
       "      <td>181574</td>\n",
       "      <td>181666</td>\n",
       "      <td>181725</td>\n",
       "    </tr>\n",
       "    <tr>\n",
       "      <th>1</th>\n",
       "      <td>NaN</td>\n",
       "      <td>Albania</td>\n",
       "      <td>41.15330</td>\n",
       "      <td>20.168300</td>\n",
       "      <td>0</td>\n",
       "      <td>0</td>\n",
       "      <td>0</td>\n",
       "      <td>0</td>\n",
       "      <td>0</td>\n",
       "      <td>0</td>\n",
       "      <td>...</td>\n",
       "      <td>276690</td>\n",
       "      <td>276731</td>\n",
       "      <td>276731</td>\n",
       "      <td>276821</td>\n",
       "      <td>276821</td>\n",
       "      <td>276821</td>\n",
       "      <td>277141</td>\n",
       "      <td>277141</td>\n",
       "      <td>277409</td>\n",
       "      <td>277444</td>\n",
       "    </tr>\n",
       "    <tr>\n",
       "      <th>2</th>\n",
       "      <td>NaN</td>\n",
       "      <td>Algeria</td>\n",
       "      <td>28.03390</td>\n",
       "      <td>1.659600</td>\n",
       "      <td>0</td>\n",
       "      <td>0</td>\n",
       "      <td>0</td>\n",
       "      <td>0</td>\n",
       "      <td>0</td>\n",
       "      <td>0</td>\n",
       "      <td>...</td>\n",
       "      <td>265925</td>\n",
       "      <td>265927</td>\n",
       "      <td>265937</td>\n",
       "      <td>265943</td>\n",
       "      <td>265952</td>\n",
       "      <td>265964</td>\n",
       "      <td>265968</td>\n",
       "      <td>265971</td>\n",
       "      <td>265975</td>\n",
       "      <td>265985</td>\n",
       "    </tr>\n",
       "    <tr>\n",
       "      <th>3</th>\n",
       "      <td>NaN</td>\n",
       "      <td>Andorra</td>\n",
       "      <td>42.50630</td>\n",
       "      <td>1.521800</td>\n",
       "      <td>0</td>\n",
       "      <td>0</td>\n",
       "      <td>0</td>\n",
       "      <td>0</td>\n",
       "      <td>0</td>\n",
       "      <td>0</td>\n",
       "      <td>...</td>\n",
       "      <td>43224</td>\n",
       "      <td>43224</td>\n",
       "      <td>43224</td>\n",
       "      <td>43224</td>\n",
       "      <td>43449</td>\n",
       "      <td>43449</td>\n",
       "      <td>43449</td>\n",
       "      <td>43449</td>\n",
       "      <td>43449</td>\n",
       "      <td>43449</td>\n",
       "    </tr>\n",
       "    <tr>\n",
       "      <th>4</th>\n",
       "      <td>NaN</td>\n",
       "      <td>Angola</td>\n",
       "      <td>-11.20270</td>\n",
       "      <td>17.873900</td>\n",
       "      <td>0</td>\n",
       "      <td>0</td>\n",
       "      <td>0</td>\n",
       "      <td>0</td>\n",
       "      <td>0</td>\n",
       "      <td>0</td>\n",
       "      <td>...</td>\n",
       "      <td>99761</td>\n",
       "      <td>99761</td>\n",
       "      <td>99761</td>\n",
       "      <td>99761</td>\n",
       "      <td>99761</td>\n",
       "      <td>99761</td>\n",
       "      <td>99761</td>\n",
       "      <td>99761</td>\n",
       "      <td>99761</td>\n",
       "      <td>99761</td>\n",
       "    </tr>\n",
       "  </tbody>\n",
       "</table>\n",
       "<p>5 rows × 885 columns</p>\n",
       "</div>"
      ],
      "text/plain": [
       "  Province/State Country/Region       Lat       Long  1/22/20  1/23/20  \\\n",
       "0            NaN    Afghanistan  33.93911  67.709953        0        0   \n",
       "1            NaN        Albania  41.15330  20.168300        0        0   \n",
       "2            NaN        Algeria  28.03390   1.659600        0        0   \n",
       "3            NaN        Andorra  42.50630   1.521800        0        0   \n",
       "4            NaN         Angola -11.20270  17.873900        0        0   \n",
       "\n",
       "   1/24/20  1/25/20  1/26/20  1/27/20  ...  6/11/22  6/12/22  6/13/22  \\\n",
       "0        0        0        0        0  ...   180864   180864   181120   \n",
       "1        0        0        0        0  ...   276690   276731   276731   \n",
       "2        0        0        0        0  ...   265925   265927   265937   \n",
       "3        0        0        0        0  ...    43224    43224    43224   \n",
       "4        0        0        0        0  ...    99761    99761    99761   \n",
       "\n",
       "   6/14/22  6/15/22  6/16/22  6/17/22  6/18/22  6/19/22  6/20/22  \n",
       "0   181178   181236   181465   181534   181574   181666   181725  \n",
       "1   276821   276821   276821   277141   277141   277409   277444  \n",
       "2   265943   265952   265964   265968   265971   265975   265985  \n",
       "3    43224    43449    43449    43449    43449    43449    43449  \n",
       "4    99761    99761    99761    99761    99761    99761    99761  \n",
       "\n",
       "[5 rows x 885 columns]"
      ]
     },
     "execution_count": 3,
     "metadata": {},
     "output_type": "execute_result"
    }
   ],
   "source": [
    "pd_raw.head()"
   ]
  },
  {
   "cell_type": "markdown",
   "id": "c94c7fe6",
   "metadata": {},
   "source": [
    "# Webscrapping"
   ]
  },
  {
   "cell_type": "code",
   "execution_count": 4,
   "id": "838b5531",
   "metadata": {},
   "outputs": [],
   "source": [
    "page = requests.get(\"https://www.rki.de/DE/Content/InfAZ/N/Neuartiges_Coronavirus/Fallzahlen.html\")"
   ]
  },
  {
   "cell_type": "code",
   "execution_count": 5,
   "id": "1e8e9c1f",
   "metadata": {},
   "outputs": [],
   "source": [
    "soup = BeautifulSoup(page.content, 'html.parser')"
   ]
  },
  {
   "cell_type": "code",
   "execution_count": 6,
   "id": "dbd11131",
   "metadata": {},
   "outputs": [],
   "source": [
    "html_table=soup.find('table') # find the table, attention this works if one table exists"
   ]
  },
  {
   "cell_type": "code",
   "execution_count": 7,
   "id": "c6f11587",
   "metadata": {},
   "outputs": [],
   "source": [
    "all_rows=html_table.find_all('tr')"
   ]
  },
  {
   "cell_type": "code",
   "execution_count": 8,
   "id": "846f5bb9",
   "metadata": {},
   "outputs": [],
   "source": [
    "final_data_list=[]"
   ]
  },
  {
   "cell_type": "code",
   "execution_count": 9,
   "id": "9c07c569",
   "metadata": {},
   "outputs": [],
   "source": [
    "for pos,rows in enumerate(all_rows):\n",
    "   \n",
    "    col_list=[each_col.get_text(strip=True) for each_col in rows.find_all('td')] #td for data element\n",
    "    final_data_list.append(col_list)"
   ]
  },
  {
   "cell_type": "code",
   "execution_count": 10,
   "id": "9ce1483d",
   "metadata": {},
   "outputs": [],
   "source": [
    "pd_daily_status=pd.DataFrame(final_data_list).dropna().rename(columns={0:'state',\n",
    "                                                       1:'cases',\n",
    "                                                       2:'changes',\n",
    "                                                       3:'cases_per_100k',\n",
    "                                                       4:'fatal',\n",
    "                                                       5:'comment'})"
   ]
  },
  {
   "cell_type": "code",
   "execution_count": 11,
   "id": "69e25c88",
   "metadata": {},
   "outputs": [
    {
     "data": {
      "text/html": [
       "<div>\n",
       "<style scoped>\n",
       "    .dataframe tbody tr th:only-of-type {\n",
       "        vertical-align: middle;\n",
       "    }\n",
       "\n",
       "    .dataframe tbody tr th {\n",
       "        vertical-align: top;\n",
       "    }\n",
       "\n",
       "    .dataframe thead th {\n",
       "        text-align: right;\n",
       "    }\n",
       "</style>\n",
       "<table border=\"1\" class=\"dataframe\">\n",
       "  <thead>\n",
       "    <tr style=\"text-align: right;\">\n",
       "      <th></th>\n",
       "      <th>state</th>\n",
       "      <th>cases</th>\n",
       "      <th>changes</th>\n",
       "      <th>cases_per_100k</th>\n",
       "      <th>fatal</th>\n",
       "      <th>comment</th>\n",
       "    </tr>\n",
       "  </thead>\n",
       "  <tbody>\n",
       "    <tr>\n",
       "      <th>2</th>\n",
       "      <td>Baden-Württem­berg</td>\n",
       "      <td>3.768.735</td>\n",
       "      <td>12.330</td>\n",
       "      <td>34.767</td>\n",
       "      <td>313,1</td>\n",
       "      <td>16.239</td>\n",
       "    </tr>\n",
       "    <tr>\n",
       "      <th>3</th>\n",
       "      <td>Bayern</td>\n",
       "      <td>5.039.584</td>\n",
       "      <td>20.283</td>\n",
       "      <td>53.631</td>\n",
       "      <td>408,1</td>\n",
       "      <td>24.255</td>\n",
       "    </tr>\n",
       "    <tr>\n",
       "      <th>4</th>\n",
       "      <td>Berlin</td>\n",
       "      <td>1.079.464</td>\n",
       "      <td>4.332</td>\n",
       "      <td>12.242</td>\n",
       "      <td>334,1</td>\n",
       "      <td>4.635</td>\n",
       "    </tr>\n",
       "    <tr>\n",
       "      <th>5</th>\n",
       "      <td>Branden­burg</td>\n",
       "      <td>807.903</td>\n",
       "      <td>1.876</td>\n",
       "      <td>7.393</td>\n",
       "      <td>292,1</td>\n",
       "      <td>5.704</td>\n",
       "    </tr>\n",
       "    <tr>\n",
       "      <th>6</th>\n",
       "      <td>Bremen</td>\n",
       "      <td>209.549</td>\n",
       "      <td>834</td>\n",
       "      <td>3.702</td>\n",
       "      <td>544,3</td>\n",
       "      <td>784</td>\n",
       "    </tr>\n",
       "  </tbody>\n",
       "</table>\n",
       "</div>"
      ],
      "text/plain": [
       "                state      cases changes cases_per_100k  fatal comment\n",
       "2  Baden-Württem­berg  3.768.735  12.330         34.767  313,1  16.239\n",
       "3              Bayern  5.039.584  20.283         53.631  408,1  24.255\n",
       "4              Berlin  1.079.464   4.332         12.242  334,1   4.635\n",
       "5        Branden­burg    807.903   1.876          7.393  292,1   5.704\n",
       "6              Bremen    209.549     834          3.702  544,3     784"
      ]
     },
     "execution_count": 11,
     "metadata": {},
     "output_type": "execute_result"
    }
   ],
   "source": [
    "pd_daily_status.head()"
   ]
  },
  {
   "cell_type": "markdown",
   "id": "f901d63b",
   "metadata": {},
   "source": [
    "# REST API calls\n"
   ]
  },
  {
   "cell_type": "code",
   "execution_count": 12,
   "id": "f6f55521",
   "metadata": {},
   "outputs": [],
   "source": [
    "## data request for Germany\n",
    "data=requests.get('https://services7.arcgis.com/mOBPykOjAyBO2ZKk/arcgis/rest/services/Coronaf%C3%A4lle_in_den_Bundesl%C3%A4ndern/FeatureServer/0/query?where=1%3D1&outFields=*&outSR=4326&f=json')"
   ]
  },
  {
   "cell_type": "code",
   "execution_count": 13,
   "id": "609d02fe",
   "metadata": {},
   "outputs": [],
   "source": [
    "json_object=json.loads(data.content) "
   ]
  },
  {
   "cell_type": "code",
   "execution_count": 14,
   "id": "e192efdc",
   "metadata": {},
   "outputs": [
    {
     "data": {
      "text/plain": [
       "dict"
      ]
     },
     "execution_count": 14,
     "metadata": {},
     "output_type": "execute_result"
    }
   ],
   "source": [
    "type(json_object)"
   ]
  },
  {
   "cell_type": "code",
   "execution_count": 15,
   "id": "1fcecc84",
   "metadata": {},
   "outputs": [
    {
     "data": {
      "text/plain": [
       "dict_keys(['objectIdFieldName', 'uniqueIdField', 'globalIdFieldName', 'geometryProperties', 'geometryType', 'spatialReference', 'fields', 'features'])"
      ]
     },
     "execution_count": 15,
     "metadata": {},
     "output_type": "execute_result"
    }
   ],
   "source": [
    "json_object.keys()"
   ]
  },
  {
   "cell_type": "code",
   "execution_count": 16,
   "id": "5bdf8cf0",
   "metadata": {},
   "outputs": [],
   "source": [
    "full_list=[]\n",
    "for pos,each_dict in enumerate (json_object['features'][:]):\n",
    "    full_list.append(each_dict['attributes'])    "
   ]
  },
  {
   "cell_type": "code",
   "execution_count": 17,
   "id": "8a30dbc0",
   "metadata": {},
   "outputs": [
    {
     "data": {
      "text/html": [
       "<div>\n",
       "<style scoped>\n",
       "    .dataframe tbody tr th:only-of-type {\n",
       "        vertical-align: middle;\n",
       "    }\n",
       "\n",
       "    .dataframe tbody tr th {\n",
       "        vertical-align: top;\n",
       "    }\n",
       "\n",
       "    .dataframe thead th {\n",
       "        text-align: right;\n",
       "    }\n",
       "</style>\n",
       "<table border=\"1\" class=\"dataframe\">\n",
       "  <thead>\n",
       "    <tr style=\"text-align: right;\">\n",
       "      <th></th>\n",
       "      <th>OBJECTID_1</th>\n",
       "      <th>LAN_ew_AGS</th>\n",
       "      <th>LAN_ew_GEN</th>\n",
       "      <th>LAN_ew_BEZ</th>\n",
       "      <th>LAN_ew_EWZ</th>\n",
       "      <th>OBJECTID</th>\n",
       "      <th>Fallzahl</th>\n",
       "      <th>Aktualisierung</th>\n",
       "      <th>AGS_TXT</th>\n",
       "      <th>GlobalID</th>\n",
       "      <th>faelle_100000_EW</th>\n",
       "      <th>Shape__Area</th>\n",
       "      <th>Shape__Length</th>\n",
       "      <th>Death</th>\n",
       "      <th>cases7_bl_per_100k</th>\n",
       "      <th>cases7_bl</th>\n",
       "      <th>death7_bl</th>\n",
       "      <th>cases7_bl_per_100k_txt</th>\n",
       "      <th>AdmUnitId</th>\n",
       "    </tr>\n",
       "  </thead>\n",
       "  <tbody>\n",
       "    <tr>\n",
       "      <th>0</th>\n",
       "      <td>1</td>\n",
       "      <td>01</td>\n",
       "      <td>Schleswig-Holstein</td>\n",
       "      <td>Land</td>\n",
       "      <td>2910875</td>\n",
       "      <td>15</td>\n",
       "      <td>793319</td>\n",
       "      <td>1655762400000</td>\n",
       "      <td>01</td>\n",
       "      <td>fc5ba936-c95c-432c-8a33-9eb2f30b660f</td>\n",
       "      <td>27253.626487</td>\n",
       "      <td>4.573731e+10</td>\n",
       "      <td>2.881496e+06</td>\n",
       "      <td>2587</td>\n",
       "      <td>747.438485</td>\n",
       "      <td>21757</td>\n",
       "      <td>1</td>\n",
       "      <td>747,4</td>\n",
       "      <td>1</td>\n",
       "    </tr>\n",
       "    <tr>\n",
       "      <th>1</th>\n",
       "      <td>2</td>\n",
       "      <td>02</td>\n",
       "      <td>Hamburg</td>\n",
       "      <td>Freie und Hansestadt</td>\n",
       "      <td>1852478</td>\n",
       "      <td>6</td>\n",
       "      <td>612388</td>\n",
       "      <td>1655762400000</td>\n",
       "      <td>02</td>\n",
       "      <td>0f3e860c-5181-4d3f-a421-1d51f50315ea</td>\n",
       "      <td>33057.774505</td>\n",
       "      <td>2.089396e+09</td>\n",
       "      <td>4.188002e+05</td>\n",
       "      <td>2703</td>\n",
       "      <td>531.396324</td>\n",
       "      <td>9844</td>\n",
       "      <td>3</td>\n",
       "      <td>531,4</td>\n",
       "      <td>2</td>\n",
       "    </tr>\n",
       "    <tr>\n",
       "      <th>2</th>\n",
       "      <td>3</td>\n",
       "      <td>03</td>\n",
       "      <td>Niedersachsen</td>\n",
       "      <td>Land</td>\n",
       "      <td>8003421</td>\n",
       "      <td>9</td>\n",
       "      <td>2513163</td>\n",
       "      <td>1655762400000</td>\n",
       "      <td>03</td>\n",
       "      <td>3fd77024-c29b-4843-9be8-682ad48e60c9</td>\n",
       "      <td>31401.109601</td>\n",
       "      <td>1.299836e+11</td>\n",
       "      <td>4.008988e+06</td>\n",
       "      <td>9560</td>\n",
       "      <td>718.230367</td>\n",
       "      <td>57483</td>\n",
       "      <td>1</td>\n",
       "      <td>718,2</td>\n",
       "      <td>3</td>\n",
       "    </tr>\n",
       "    <tr>\n",
       "      <th>3</th>\n",
       "      <td>4</td>\n",
       "      <td>04</td>\n",
       "      <td>Bremen</td>\n",
       "      <td>Freie Hansestadt</td>\n",
       "      <td>680130</td>\n",
       "      <td>5</td>\n",
       "      <td>209549</td>\n",
       "      <td>1655762400000</td>\n",
       "      <td>04</td>\n",
       "      <td>4132268b-54de-4327-ac1e-760e915112f1</td>\n",
       "      <td>30810.139238</td>\n",
       "      <td>1.119157e+09</td>\n",
       "      <td>3.357177e+05</td>\n",
       "      <td>784</td>\n",
       "      <td>544.307706</td>\n",
       "      <td>3702</td>\n",
       "      <td>1</td>\n",
       "      <td>544,3</td>\n",
       "      <td>4</td>\n",
       "    </tr>\n",
       "    <tr>\n",
       "      <th>4</th>\n",
       "      <td>5</td>\n",
       "      <td>05</td>\n",
       "      <td>Nordrhein-Westfalen</td>\n",
       "      <td>Land</td>\n",
       "      <td>17925570</td>\n",
       "      <td>10</td>\n",
       "      <td>5531269</td>\n",
       "      <td>1655762400000</td>\n",
       "      <td>05</td>\n",
       "      <td>561d658f-3ee5-46e3-bc95-3528c6558ab9</td>\n",
       "      <td>30856.865360</td>\n",
       "      <td>8.782936e+10</td>\n",
       "      <td>2.648673e+06</td>\n",
       "      <td>25605</td>\n",
       "      <td>524.312477</td>\n",
       "      <td>93986</td>\n",
       "      <td>7</td>\n",
       "      <td>524,3</td>\n",
       "      <td>5</td>\n",
       "    </tr>\n",
       "  </tbody>\n",
       "</table>\n",
       "</div>"
      ],
      "text/plain": [
       "   OBJECTID_1 LAN_ew_AGS           LAN_ew_GEN            LAN_ew_BEZ  \\\n",
       "0           1         01   Schleswig-Holstein                  Land   \n",
       "1           2         02              Hamburg  Freie und Hansestadt   \n",
       "2           3         03        Niedersachsen                  Land   \n",
       "3           4         04               Bremen      Freie Hansestadt   \n",
       "4           5         05  Nordrhein-Westfalen                  Land   \n",
       "\n",
       "   LAN_ew_EWZ  OBJECTID  Fallzahl  Aktualisierung AGS_TXT  \\\n",
       "0     2910875        15    793319   1655762400000      01   \n",
       "1     1852478         6    612388   1655762400000      02   \n",
       "2     8003421         9   2513163   1655762400000      03   \n",
       "3      680130         5    209549   1655762400000      04   \n",
       "4    17925570        10   5531269   1655762400000      05   \n",
       "\n",
       "                               GlobalID  faelle_100000_EW   Shape__Area  \\\n",
       "0  fc5ba936-c95c-432c-8a33-9eb2f30b660f      27253.626487  4.573731e+10   \n",
       "1  0f3e860c-5181-4d3f-a421-1d51f50315ea      33057.774505  2.089396e+09   \n",
       "2  3fd77024-c29b-4843-9be8-682ad48e60c9      31401.109601  1.299836e+11   \n",
       "3  4132268b-54de-4327-ac1e-760e915112f1      30810.139238  1.119157e+09   \n",
       "4  561d658f-3ee5-46e3-bc95-3528c6558ab9      30856.865360  8.782936e+10   \n",
       "\n",
       "   Shape__Length  Death  cases7_bl_per_100k  cases7_bl  death7_bl  \\\n",
       "0   2.881496e+06   2587          747.438485      21757          1   \n",
       "1   4.188002e+05   2703          531.396324       9844          3   \n",
       "2   4.008988e+06   9560          718.230367      57483          1   \n",
       "3   3.357177e+05    784          544.307706       3702          1   \n",
       "4   2.648673e+06  25605          524.312477      93986          7   \n",
       "\n",
       "  cases7_bl_per_100k_txt  AdmUnitId  \n",
       "0                  747,4          1  \n",
       "1                  531,4          2  \n",
       "2                  718,2          3  \n",
       "3                  544,3          4  \n",
       "4                  524,3          5  "
      ]
     },
     "execution_count": 17,
     "metadata": {},
     "output_type": "execute_result"
    }
   ],
   "source": [
    "pd_full_list=pd.DataFrame(full_list)\n",
    "pd_full_list.head()"
   ]
  },
  {
   "cell_type": "code",
   "execution_count": 18,
   "id": "4de50a63",
   "metadata": {},
   "outputs": [],
   "source": [
    "pd_full_list.to_csv('../data/raw/NPGEO/GER_state_data.csv',sep=';')"
   ]
  },
  {
   "cell_type": "code",
   "execution_count": 19,
   "id": "adc9c3cd",
   "metadata": {},
   "outputs": [
    {
     "data": {
      "text/plain": [
       "16"
      ]
     },
     "execution_count": 19,
     "metadata": {},
     "output_type": "execute_result"
    }
   ],
   "source": [
    "pd_full_list.shape[0]"
   ]
  },
  {
   "cell_type": "code",
   "execution_count": null,
   "id": "d01adfd4",
   "metadata": {},
   "outputs": [],
   "source": []
  }
 ],
 "metadata": {
  "kernelspec": {
   "display_name": "Python 3 (ipykernel)",
   "language": "python",
   "name": "python3"
  },
  "language_info": {
   "codemirror_mode": {
    "name": "ipython",
    "version": 3
   },
   "file_extension": ".py",
   "mimetype": "text/x-python",
   "name": "python",
   "nbconvert_exporter": "python",
   "pygments_lexer": "ipython3",
   "version": "3.8.8"
  }
 },
 "nbformat": 4,
 "nbformat_minor": 5
}
