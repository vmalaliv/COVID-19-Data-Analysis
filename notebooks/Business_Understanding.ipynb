{
 "cells": [
  {
   "attachments": {},
   "cell_type": "markdown",
   "id": "99026f59",
   "metadata": {},
   "source": [
    "![CRISP_DM](../reports/figures/CRISP_DM.png)"
   ]
  },
  {
   "cell_type": "markdown",
   "id": "c7773fec",
   "metadata": {},
   "source": [
    "# Business Understanding"
   ]
  },
  {
   "cell_type": "markdown",
   "id": "2ff22a36",
   "metadata": {},
   "source": [
    "* We would like to track Corona VIRUS spread across countries and with personal local information\n",
    "* The general information is not so relevant for me I would like to have a deep dive local development of the spread"
   ]
  },
  {
   "cell_type": "markdown",
   "id": "e914f417",
   "metadata": {},
   "source": [
    "# Goals"
   ]
  },
  {
   "cell_type": "markdown",
   "id": "1cc7f111",
   "metadata": {},
   "source": [
    "* We would like to understand the data quality\n",
    "* Everything should be automated as much as possible: how many clicks do we need to execute the full pipeline"
   ]
  },
  {
   "cell_type": "markdown",
   "id": "d81fe2bb",
   "metadata": {},
   "source": [
    "# Constraints"
   ]
  },
  {
   "cell_type": "markdown",
   "id": "b4bdee3e",
   "metadata": {},
   "source": [
    "* Each notebook is left clean and ready for full execution"
   ]
  }
 ],
 "metadata": {
  "kernelspec": {
   "display_name": "Python 3 (ipykernel)",
   "language": "python",
   "name": "python3"
  },
  "language_info": {
   "codemirror_mode": {
    "name": "ipython",
    "version": 3
   },
   "file_extension": ".py",
   "mimetype": "text/x-python",
   "name": "python",
   "nbconvert_exporter": "python",
   "pygments_lexer": "ipython3",
   "version": "3.8.8"
  }
 },
 "nbformat": 4,
 "nbformat_minor": 5
}
